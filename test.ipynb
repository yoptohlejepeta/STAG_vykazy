{
 "cells": [
  {
   "cell_type": "code",
   "execution_count": null,
   "metadata": {},
   "outputs": [],
   "source": [
    "import pandas as pd\n",
    "import requests\n",
    "from dotenv import load_dotenv\n",
    "import os\n",
    "from requests import Session\n",
    "from io import StringIO\n",
    "import numpy as np\n",
    "\n",
    "load_dotenv()"
   ]
  },
  {
   "cell_type": "code",
   "execution_count": 4,
   "metadata": {},
   "outputs": [
    {
     "ename": "AttributeError",
     "evalue": "'Workbook' object has no attribute 'merge_range'",
     "output_type": "error",
     "traceback": [
      "\u001b[0;31m---------------------------------------------------------------------------\u001b[0m",
      "\u001b[0;31mAttributeError\u001b[0m                            Traceback (most recent call last)",
      "Cell \u001b[0;32mIn[4], line 17\u001b[0m\n\u001b[1;32m     15\u001b[0m workbook \u001b[39m=\u001b[39m writer\u001b[39m.\u001b[39mbook\n\u001b[1;32m     16\u001b[0m \u001b[39m# worksheet = workbook.add_worksheet()\u001b[39;00m\n\u001b[0;32m---> 17\u001b[0m workbook\u001b[39m.\u001b[39;49mmerge_range(\u001b[39m'\u001b[39m\u001b[39mA1:C1\u001b[39m\u001b[39m'\u001b[39m, text)\n\u001b[1;32m     19\u001b[0m \u001b[39m# Write the DataFrame starting from the second row\u001b[39;00m\n\u001b[1;32m     20\u001b[0m df\u001b[39m.\u001b[39mto_excel(writer, sheet_name\u001b[39m=\u001b[39m\u001b[39m'\u001b[39m\u001b[39mSheet1\u001b[39m\u001b[39m'\u001b[39m, startrow\u001b[39m=\u001b[39m\u001b[39m1\u001b[39m, header\u001b[39m=\u001b[39m\u001b[39mTrue\u001b[39;00m, index\u001b[39m=\u001b[39m\u001b[39mFalse\u001b[39;00m)\n",
      "\u001b[0;31mAttributeError\u001b[0m: 'Workbook' object has no attribute 'merge_range'"
     ]
    }
   ],
   "source": [
    "import pandas as pd\n",
    "import xlsxwriter\n",
    "\n",
    "# Create a sample DataFrame\n",
    "data = {'Column1': [1, 2, 3, 4],\n",
    "        'Column2': ['A', 'B', 'C', 'D'],\n",
    "        'Column3': [True, False, True, False]}\n",
    "df = pd.DataFrame(data)\n",
    "\n",
    "# Create a Pandas Excel writer using the xlsxwriter engine\n",
    "writer = pd.ExcelWriter('output.xlsx', engine='xlsxwriter')\n",
    "\n",
    "# Write the text in a merged cell within the first row\n",
    "text = 'This is the merged text'\n",
    "workbook = writer.book\n",
    "worksheet = workbook.add_worksheet()\n",
    "worksheet.merge_range('A1:C1', text)\n",
    "\n",
    "# Write the DataFrame starting from the second row\n",
    "df.to_excel(writer, sheet_name='Sheet1', startrow=1, header=True, index=False)\n",
    "\n",
    "# Save the Excel file\n",
    "writer.save()\n"
   ]
  },
  {
   "cell_type": "code",
   "execution_count": null,
   "metadata": {},
   "outputs": [],
   "source": [
    "import pandas as pd\n",
    "\n",
    "# Create a sample dataframe\n",
    "df = pd.DataFrame({\"column1\": [1, 2, 3], \"column2\": [4, 5, 6]})\n",
    "\n",
    "# Apply a function to two columns and assign the result to a new column\n",
    "df[\"column3\"] = df.apply(lambda row: row[\"column1\"] + row[\"column2\"], axis=1)\n",
    "\n",
    "# Print the updated dataframe\n",
    "print(df)"
   ]
  },
  {
   "cell_type": "code",
   "execution_count": null,
   "metadata": {},
   "outputs": [],
   "source": [
    "\n",
    "# Create a sample DataFrame\n",
    "df = pl.LazyFrame({'A': [1, 2, np.nan, 4],\n",
    "                   'B': [5, np.nan, 7, 8],\n",
    "                   'C': [9, 10, 11, 12]})\n",
    "\n",
    "# # Replace missing values in column 'A' with the sum of columns 'B' and 'C'\n",
    "# df['A'] = df['A'].fillna(df['B'] * df['C'])\n",
    "\n",
    "# # Print the DataFrame to verify the result\n",
    "print(df.collect())"
   ]
  },
  {
   "cell_type": "code",
   "execution_count": null,
   "metadata": {},
   "outputs": [],
   "source": [
    "import datetime\n",
    "from dateutil.relativedelta import relativedelta\n",
    "\n",
    "sample = datetime.date(2023, 9, 30)\n",
    "\n",
    "first = sample + relativedelta(day=1)\n",
    "\n",
    "first"
   ]
  },
  {
   "cell_type": "code",
   "execution_count": null,
   "metadata": {},
   "outputs": [],
   "source": [
    "cookie = \"937f01c22ce0bff382c82dbae3d4f25ab48cae6a5014e526b268bdd281bf4704\"\n",
    "\n",
    "ucitel_url = \"https://ws.ujep.cz/ws/services/rest2/ucitel/getUcitelInfo\"\n",
    "\n",
    "vars = {\"ucitIdno\" : 3521, \"outputFormat\": \"CSV\", \"outputFormatEncoding\": \"utf-8\", \"lang\" : \"cs\"}\n",
    "\n",
    "ucitel = requests.get(\n",
    "    ucitel_url,\n",
    "    cookies={\"WSCOOKIE\": cookie},\n",
    "    params=vars\n",
    ")\n",
    "\n",
    "ucit_data = ucitel.text\n",
    "ucit_df = pl.read_csv(StringIO(ucit_data), separator=\";\")\n",
    "ucit_df"
   ]
  },
  {
   "cell_type": "code",
   "execution_count": null,
   "metadata": {},
   "outputs": [],
   "source": [
    "# url = \"https://ws.ujep.cz/ws/services/rest2/rozvrhy/getRozvrhByUcitel?stagUser=F21060&ucitIdno=3521&semestr=%25&vsechnyCasyKonani=true&jenRozvrhoveAkce=false&datumDo=31.5.2023&vsechnyAkce=false&jenBudouciAkce=false&datumOd=1.5.2023&lang=cs&outputFormat=CSV&outputFormatEncoding=utf-8\"\n",
    "url = \"https://ws.ujep.cz/ws/services/rest2/ucitel/getUcitelInfo?ucitIdno=6978&lang=cs&outputFormat=csv\"\n",
    "\n",
    "response = requests.get(url, cookies={\"WSCOOKIE\" : \"662136d0bdb62093f9ea19303ceb17f60893076e185f7a351dbee0834a537a50\"})\n",
    "print(response)\n",
    "\n",
    "df = pd.read_csv(StringIO(response.text), sep = \";\")\n",
    "df"
   ]
  },
  {
   "cell_type": "code",
   "execution_count": null,
   "metadata": {},
   "outputs": [],
   "source": [
    "dict = {1 : \"ok\"}\n",
    "\n",
    "dict.pop(2, None)\n",
    "print(dict)"
   ]
  },
  {
   "cell_type": "code",
   "execution_count": null,
   "metadata": {},
   "outputs": [],
   "source": [
    "round(2.66666)"
   ]
  },
  {
   "cell_type": "code",
   "execution_count": null,
   "metadata": {},
   "outputs": [],
   "source": [
    "from datetime import datetime, timedelta\n",
    "\n",
    "# create two datetime objects\n",
    "dt1 = datetime(2023, 5, 1, 14, 0) # 2:00 PM\n",
    "dt2 = datetime(2023, 5, 1, 12, 0) # 12:00 PM\n",
    "\n",
    "# calculate the difference between the two datetime objects\n",
    "delta = dt1 - dt2\n",
    "\n",
    "# extract the number of hours from the timedelta object\n",
    "hours = delta.total_seconds() / 3600\n",
    "\n",
    "print(hours) # output: 2.0\n",
    "print(dt1)"
   ]
  },
  {
   "cell_type": "code",
   "execution_count": null,
   "metadata": {},
   "outputs": [],
   "source": [
    "data_url = \"https://stag-demo.zcu.cz/ws/services/rest2/ucitel/getUciteleKatedry\"\n",
    "\n",
    "vars = {\n",
    "    \"lang\" : \"cs\",\n",
    "    \"outputFormat\" : \"CSV\",\n",
    "    \"katedra\" : \"KI\",\n",
    "    \"jenAktualni\" : True,\n",
    "    \"outputFormatEncoding\":\"utf-8\"\n",
    "}\n",
    "\n",
    "df = get_ucitele_katedry(\"jbozdech\", \"demo\", os.getenv(\"APP_URL\"), data_url, vars, column=\"ucitIdno\")\n",
    "\n",
    "df"
   ]
  },
  {
   "cell_type": "code",
   "execution_count": null,
   "metadata": {},
   "outputs": [],
   "source": [
    "# with Session() as s:\n",
    "#     s.auth = (\"jbozdech\", \"demo\")\n",
    "#     webove_sluzby_page = s.get(os.getenv(\"APP_URL\"))\n",
    "#     print(webove_sluzby_page.headers.get(\"stagUserTicket\"))\n",
    "#     # response = s.get(data_url, headers={}, params=vars)\n",
    "#     # # print(response.text)\n",
    "#     # data = response.text\n",
    "#     # df = pd.read_csv(StringIO(data), sep = \";\")\n",
    "\n",
    "response = requests.get(os.getenv(\"APP_URL\"))\n",
    "\n",
    "print(response.cookies)"
   ]
  }
 ],
 "metadata": {
  "kernelspec": {
   "display_name": "venv",
   "language": "python",
   "name": "python3"
  },
  "language_info": {
   "codemirror_mode": {
    "name": "ipython",
    "version": 3
   },
   "file_extension": ".py",
   "mimetype": "text/x-python",
   "name": "python",
   "nbconvert_exporter": "python",
   "pygments_lexer": "ipython3",
   "version": "3.10.6"
  },
  "orig_nbformat": 4
 },
 "nbformat": 4,
 "nbformat_minor": 2
}
