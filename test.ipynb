{
 "cells": [
  {
   "cell_type": "code",
   "execution_count": 1,
   "metadata": {},
   "outputs": [
    {
     "data": {
      "text/plain": [
       "True"
      ]
     },
     "execution_count": 1,
     "metadata": {},
     "output_type": "execute_result"
    }
   ],
   "source": [
    "import pandas\n",
    "import requests\n",
    "from utils import get_ucitele_katedry\n",
    "from dotenv import load_dotenv\n",
    "import os\n",
    "from requests import Session\n",
    "\n",
    "load_dotenv()"
   ]
  },
  {
   "cell_type": "code",
   "execution_count": 2,
   "metadata": {},
   "outputs": [
    {
     "data": {
      "text/plain": [
       "Series([], Name: ucitIdno, dtype: object)"
      ]
     },
     "execution_count": 2,
     "metadata": {},
     "output_type": "execute_result"
    }
   ],
   "source": [
    "data_url = \"https://stag-demo.zcu.cz/ws/services/rest2/ucitel/getUciteleKatedry\"\n",
    "\n",
    "vars = {\n",
    "    \"lang\" : \"cs\",\n",
    "    \"outputFormat\" : \"CSV\",\n",
    "    \"katedra\" : \"KI\",\n",
    "    \"jenAktualni\" : True,\n",
    "    \"outputFormatEncoding\":\"utf-8\"\n",
    "}\n",
    "\n",
    "df = get_ucitele_katedry(\"jbozdech\", \"demo\", os.getenv(\"APP_URL\"), data_url, vars, column=\"ucitIdno\")\n",
    "\n",
    "df"
   ]
  },
  {
   "cell_type": "code",
   "execution_count": 15,
   "metadata": {},
   "outputs": [
    {
     "name": "stdout",
     "output_type": "stream",
     "text": [
      "<RequestsCookieJar[]>\n"
     ]
    }
   ],
   "source": [
    "# with Session() as s:\n",
    "#     s.auth = (\"jbozdech\", \"demo\")\n",
    "#     webove_sluzby_page = s.get(os.getenv(\"APP_URL\"))\n",
    "#     print(webove_sluzby_page.headers.get(\"stagUserTicket\"))\n",
    "#     # response = s.get(data_url, headers={}, params=vars)\n",
    "#     # # print(response.text)\n",
    "#     # data = response.text\n",
    "#     # df = pd.read_csv(StringIO(data), sep = \";\")\n",
    "\n",
    "response = requests.get(os.getenv(\"APP_URL\"))\n",
    "\n",
    "print(response.cookies)"
   ]
  }
 ],
 "metadata": {
  "kernelspec": {
   "display_name": "venv",
   "language": "python",
   "name": "python3"
  },
  "language_info": {
   "codemirror_mode": {
    "name": "ipython",
    "version": 3
   },
   "file_extension": ".py",
   "mimetype": "text/x-python",
   "name": "python",
   "nbconvert_exporter": "python",
   "pygments_lexer": "ipython3",
   "version": "3.10.6"
  },
  "orig_nbformat": 4
 },
 "nbformat": 4,
 "nbformat_minor": 2
}
