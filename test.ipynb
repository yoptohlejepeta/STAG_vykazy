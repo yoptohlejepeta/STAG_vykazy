{
 "cells": [
  {
   "cell_type": "code",
   "execution_count": 3,
   "metadata": {},
   "outputs": [
    {
     "data": {
      "text/plain": [
       "True"
      ]
     },
     "execution_count": 3,
     "metadata": {},
     "output_type": "execute_result"
    }
   ],
   "source": [
    "import pandas as pd\n",
    "import requests\n",
    "from dotenv import load_dotenv\n",
    "import os\n",
    "from requests import Session\n",
    "from io import StringIO\n",
    "import polars as pl\n",
    "import numpy as np\n",
    "\n",
    "load_dotenv()"
   ]
  },
  {
   "cell_type": "code",
   "execution_count": 6,
   "metadata": {},
   "outputs": [
    {
     "name": "stdout",
     "output_type": "stream",
     "text": [
      "shape: (4, 3)\n",
      "┌─────┬─────┬─────┐\n",
      "│ A   ┆ B   ┆ C   │\n",
      "│ --- ┆ --- ┆ --- │\n",
      "│ f64 ┆ f64 ┆ i64 │\n",
      "╞═════╪═════╪═════╡\n",
      "│ 1.0 ┆ 5.0 ┆ 9   │\n",
      "│ 2.0 ┆ NaN ┆ 10  │\n",
      "│ NaN ┆ 7.0 ┆ 11  │\n",
      "│ 4.0 ┆ 8.0 ┆ 12  │\n",
      "└─────┴─────┴─────┘\n"
     ]
    }
   ],
   "source": [
    "\n",
    "# Create a sample DataFrame\n",
    "df = pl.LazyFrame({'A': [1, 2, np.nan, 4],\n",
    "                   'B': [5, np.nan, 7, 8],\n",
    "                   'C': [9, 10, 11, 12]})\n",
    "\n",
    "# # Replace missing values in column 'A' with the sum of columns 'B' and 'C'\n",
    "# df['A'] = df['A'].fillna(df['B'] * df['C'])\n",
    "\n",
    "# # Print the DataFrame to verify the result\n",
    "print(df.collect())"
   ]
  },
  {
   "cell_type": "code",
   "execution_count": 8,
   "metadata": {},
   "outputs": [
    {
     "data": {
      "text/plain": [
       "datetime.date(2023, 9, 1)"
      ]
     },
     "execution_count": 8,
     "metadata": {},
     "output_type": "execute_result"
    }
   ],
   "source": [
    "import datetime\n",
    "from dateutil.relativedelta import relativedelta\n",
    "\n",
    "sample = datetime.date(2023, 9, 30)\n",
    "\n",
    "first = sample + relativedelta(day=1)\n",
    "\n",
    "first"
   ]
  },
  {
   "cell_type": "code",
   "execution_count": 14,
   "metadata": {},
   "outputs": [
    {
     "data": {
      "text/html": [
       "<div><style>\n",
       ".dataframe > thead > tr > th,\n",
       ".dataframe > tbody > tr > td {\n",
       "  text-align: right;\n",
       "}\n",
       "</style>\n",
       "<small>shape: (1, 13)</small><table border=\"1\" class=\"dataframe\"><thead><tr><th>ucitIdno</th><th>jmeno</th><th>prijmeni</th><th>titulPred</th><th>titulZa</th><th>platnost</th><th>zamestnanec</th><th>katedra</th><th>pracovisteDalsi</th><th>email</th><th>telefon</th><th>telefon2</th><th>url</th></tr><tr><td>i64</td><td>str</td><td>str</td><td>str</td><td>str</td><td>str</td><td>str</td><td>str</td><td>str</td><td>str</td><td>i64</td><td>str</td><td>str</td></tr></thead><tbody><tr><td>3521</td><td>&quot;Zbyšek&quot;</td><td>&quot;Posel&quot;</td><td>&quot;RNDr.&quot;</td><td>&quot;Ph.D.&quot;</td><td>&quot;A&quot;</td><td>&quot;A&quot;</td><td>&quot;KI&quot;</td><td>&quot;&quot;</td><td>&quot;Zbysek.Posel@u…</td><td>475286717</td><td>&quot;&quot;</td><td>&quot;&quot;</td></tr></tbody></table></div>"
      ],
      "text/plain": [
       "shape: (1, 13)\n",
       "┌──────────┬────────┬──────────┬───────────┬───┬──────────────────────┬───────────┬──────────┬─────┐\n",
       "│ ucitIdno ┆ jmeno  ┆ prijmeni ┆ titulPred ┆ … ┆ email                ┆ telefon   ┆ telefon2 ┆ url │\n",
       "│ ---      ┆ ---    ┆ ---      ┆ ---       ┆   ┆ ---                  ┆ ---       ┆ ---      ┆ --- │\n",
       "│ i64      ┆ str    ┆ str      ┆ str       ┆   ┆ str                  ┆ i64       ┆ str      ┆ str │\n",
       "╞══════════╪════════╪══════════╪═══════════╪═══╪══════════════════════╪═══════════╪══════════╪═════╡\n",
       "│ 3521     ┆ Zbyšek ┆ Posel    ┆ RNDr.     ┆ … ┆ Zbysek.Posel@ujep.cz ┆ 475286717 ┆          ┆     │\n",
       "└──────────┴────────┴──────────┴───────────┴───┴──────────────────────┴───────────┴──────────┴─────┘"
      ]
     },
     "execution_count": 14,
     "metadata": {},
     "output_type": "execute_result"
    }
   ],
   "source": [
    "cookie = \"937f01c22ce0bff382c82dbae3d4f25ab48cae6a5014e526b268bdd281bf4704\"\n",
    "\n",
    "ucitel_url = \"https://ws.ujep.cz/ws/services/rest2/ucitel/getUcitelInfo\"\n",
    "\n",
    "vars = {\"ucitIdno\" : 3521, \"outputFormat\": \"CSV\", \"outputFormatEncoding\": \"utf-8\", \"lang\" : \"cs\"}\n",
    "\n",
    "ucitel = requests.get(\n",
    "    ucitel_url,\n",
    "    cookies={\"WSCOOKIE\": cookie},\n",
    "    params=vars\n",
    ")\n",
    "\n",
    "ucit_data = ucitel.text\n",
    "ucit_df = pl.read_csv(StringIO(ucit_data), separator=\";\")\n",
    "ucit_df"
   ]
  },
  {
   "cell_type": "code",
   "execution_count": 10,
   "metadata": {},
   "outputs": [
    {
     "name": "stdout",
     "output_type": "stream",
     "text": [
      "<Response [204]>\n"
     ]
    },
    {
     "ename": "EmptyDataError",
     "evalue": "No columns to parse from file",
     "output_type": "error",
     "traceback": [
      "\u001b[0;31m---------------------------------------------------------------------------\u001b[0m",
      "\u001b[0;31mEmptyDataError\u001b[0m                            Traceback (most recent call last)",
      "Cell \u001b[0;32mIn[10], line 7\u001b[0m\n\u001b[1;32m      4\u001b[0m response \u001b[39m=\u001b[39m requests\u001b[39m.\u001b[39mget(url, cookies\u001b[39m=\u001b[39m{\u001b[39m\"\u001b[39m\u001b[39mWSCOOKIE\u001b[39m\u001b[39m\"\u001b[39m : \u001b[39m\"\u001b[39m\u001b[39m662136d0bdb62093f9ea19303ceb17f60893076e185f7a351dbee0834a537a50\u001b[39m\u001b[39m\"\u001b[39m})\n\u001b[1;32m      5\u001b[0m \u001b[39mprint\u001b[39m(response)\n\u001b[0;32m----> 7\u001b[0m df \u001b[39m=\u001b[39m pd\u001b[39m.\u001b[39;49mread_csv(StringIO(response\u001b[39m.\u001b[39;49mtext), sep \u001b[39m=\u001b[39;49m \u001b[39m\"\u001b[39;49m\u001b[39m;\u001b[39;49m\u001b[39m\"\u001b[39;49m)\n\u001b[1;32m      8\u001b[0m df\n",
      "File \u001b[0;32m~/PROJ1_2/STAG_vykazy/venv/lib/python3.10/site-packages/pandas/util/_decorators.py:211\u001b[0m, in \u001b[0;36mdeprecate_kwarg.<locals>._deprecate_kwarg.<locals>.wrapper\u001b[0;34m(*args, **kwargs)\u001b[0m\n\u001b[1;32m    209\u001b[0m     \u001b[39melse\u001b[39;00m:\n\u001b[1;32m    210\u001b[0m         kwargs[new_arg_name] \u001b[39m=\u001b[39m new_arg_value\n\u001b[0;32m--> 211\u001b[0m \u001b[39mreturn\u001b[39;00m func(\u001b[39m*\u001b[39;49margs, \u001b[39m*\u001b[39;49m\u001b[39m*\u001b[39;49mkwargs)\n",
      "File \u001b[0;32m~/PROJ1_2/STAG_vykazy/venv/lib/python3.10/site-packages/pandas/util/_decorators.py:331\u001b[0m, in \u001b[0;36mdeprecate_nonkeyword_arguments.<locals>.decorate.<locals>.wrapper\u001b[0;34m(*args, **kwargs)\u001b[0m\n\u001b[1;32m    325\u001b[0m \u001b[39mif\u001b[39;00m \u001b[39mlen\u001b[39m(args) \u001b[39m>\u001b[39m num_allow_args:\n\u001b[1;32m    326\u001b[0m     warnings\u001b[39m.\u001b[39mwarn(\n\u001b[1;32m    327\u001b[0m         msg\u001b[39m.\u001b[39mformat(arguments\u001b[39m=\u001b[39m_format_argument_list(allow_args)),\n\u001b[1;32m    328\u001b[0m         \u001b[39mFutureWarning\u001b[39;00m,\n\u001b[1;32m    329\u001b[0m         stacklevel\u001b[39m=\u001b[39mfind_stack_level(),\n\u001b[1;32m    330\u001b[0m     )\n\u001b[0;32m--> 331\u001b[0m \u001b[39mreturn\u001b[39;00m func(\u001b[39m*\u001b[39;49margs, \u001b[39m*\u001b[39;49m\u001b[39m*\u001b[39;49mkwargs)\n",
      "File \u001b[0;32m~/PROJ1_2/STAG_vykazy/venv/lib/python3.10/site-packages/pandas/io/parsers/readers.py:950\u001b[0m, in \u001b[0;36mread_csv\u001b[0;34m(filepath_or_buffer, sep, delimiter, header, names, index_col, usecols, squeeze, prefix, mangle_dupe_cols, dtype, engine, converters, true_values, false_values, skipinitialspace, skiprows, skipfooter, nrows, na_values, keep_default_na, na_filter, verbose, skip_blank_lines, parse_dates, infer_datetime_format, keep_date_col, date_parser, dayfirst, cache_dates, iterator, chunksize, compression, thousands, decimal, lineterminator, quotechar, quoting, doublequote, escapechar, comment, encoding, encoding_errors, dialect, error_bad_lines, warn_bad_lines, on_bad_lines, delim_whitespace, low_memory, memory_map, float_precision, storage_options)\u001b[0m\n\u001b[1;32m    935\u001b[0m kwds_defaults \u001b[39m=\u001b[39m _refine_defaults_read(\n\u001b[1;32m    936\u001b[0m     dialect,\n\u001b[1;32m    937\u001b[0m     delimiter,\n\u001b[0;32m   (...)\u001b[0m\n\u001b[1;32m    946\u001b[0m     defaults\u001b[39m=\u001b[39m{\u001b[39m\"\u001b[39m\u001b[39mdelimiter\u001b[39m\u001b[39m\"\u001b[39m: \u001b[39m\"\u001b[39m\u001b[39m,\u001b[39m\u001b[39m\"\u001b[39m},\n\u001b[1;32m    947\u001b[0m )\n\u001b[1;32m    948\u001b[0m kwds\u001b[39m.\u001b[39mupdate(kwds_defaults)\n\u001b[0;32m--> 950\u001b[0m \u001b[39mreturn\u001b[39;00m _read(filepath_or_buffer, kwds)\n",
      "File \u001b[0;32m~/PROJ1_2/STAG_vykazy/venv/lib/python3.10/site-packages/pandas/io/parsers/readers.py:605\u001b[0m, in \u001b[0;36m_read\u001b[0;34m(filepath_or_buffer, kwds)\u001b[0m\n\u001b[1;32m    602\u001b[0m _validate_names(kwds\u001b[39m.\u001b[39mget(\u001b[39m\"\u001b[39m\u001b[39mnames\u001b[39m\u001b[39m\"\u001b[39m, \u001b[39mNone\u001b[39;00m))\n\u001b[1;32m    604\u001b[0m \u001b[39m# Create the parser.\u001b[39;00m\n\u001b[0;32m--> 605\u001b[0m parser \u001b[39m=\u001b[39m TextFileReader(filepath_or_buffer, \u001b[39m*\u001b[39;49m\u001b[39m*\u001b[39;49mkwds)\n\u001b[1;32m    607\u001b[0m \u001b[39mif\u001b[39;00m chunksize \u001b[39mor\u001b[39;00m iterator:\n\u001b[1;32m    608\u001b[0m     \u001b[39mreturn\u001b[39;00m parser\n",
      "File \u001b[0;32m~/PROJ1_2/STAG_vykazy/venv/lib/python3.10/site-packages/pandas/io/parsers/readers.py:1442\u001b[0m, in \u001b[0;36mTextFileReader.__init__\u001b[0;34m(self, f, engine, **kwds)\u001b[0m\n\u001b[1;32m   1439\u001b[0m     \u001b[39mself\u001b[39m\u001b[39m.\u001b[39moptions[\u001b[39m\"\u001b[39m\u001b[39mhas_index_names\u001b[39m\u001b[39m\"\u001b[39m] \u001b[39m=\u001b[39m kwds[\u001b[39m\"\u001b[39m\u001b[39mhas_index_names\u001b[39m\u001b[39m\"\u001b[39m]\n\u001b[1;32m   1441\u001b[0m \u001b[39mself\u001b[39m\u001b[39m.\u001b[39mhandles: IOHandles \u001b[39m|\u001b[39m \u001b[39mNone\u001b[39;00m \u001b[39m=\u001b[39m \u001b[39mNone\u001b[39;00m\n\u001b[0;32m-> 1442\u001b[0m \u001b[39mself\u001b[39m\u001b[39m.\u001b[39m_engine \u001b[39m=\u001b[39m \u001b[39mself\u001b[39;49m\u001b[39m.\u001b[39;49m_make_engine(f, \u001b[39mself\u001b[39;49m\u001b[39m.\u001b[39;49mengine)\n",
      "File \u001b[0;32m~/PROJ1_2/STAG_vykazy/venv/lib/python3.10/site-packages/pandas/io/parsers/readers.py:1753\u001b[0m, in \u001b[0;36mTextFileReader._make_engine\u001b[0;34m(self, f, engine)\u001b[0m\n\u001b[1;32m   1750\u001b[0m     \u001b[39mraise\u001b[39;00m \u001b[39mValueError\u001b[39;00m(msg)\n\u001b[1;32m   1752\u001b[0m \u001b[39mtry\u001b[39;00m:\n\u001b[0;32m-> 1753\u001b[0m     \u001b[39mreturn\u001b[39;00m mapping[engine](f, \u001b[39m*\u001b[39;49m\u001b[39m*\u001b[39;49m\u001b[39mself\u001b[39;49m\u001b[39m.\u001b[39;49moptions)\n\u001b[1;32m   1754\u001b[0m \u001b[39mexcept\u001b[39;00m \u001b[39mException\u001b[39;00m:\n\u001b[1;32m   1755\u001b[0m     \u001b[39mif\u001b[39;00m \u001b[39mself\u001b[39m\u001b[39m.\u001b[39mhandles \u001b[39mis\u001b[39;00m \u001b[39mnot\u001b[39;00m \u001b[39mNone\u001b[39;00m:\n",
      "File \u001b[0;32m~/PROJ1_2/STAG_vykazy/venv/lib/python3.10/site-packages/pandas/io/parsers/c_parser_wrapper.py:79\u001b[0m, in \u001b[0;36mCParserWrapper.__init__\u001b[0;34m(self, src, **kwds)\u001b[0m\n\u001b[1;32m     76\u001b[0m     kwds\u001b[39m.\u001b[39mpop(key, \u001b[39mNone\u001b[39;00m)\n\u001b[1;32m     78\u001b[0m kwds[\u001b[39m\"\u001b[39m\u001b[39mdtype\u001b[39m\u001b[39m\"\u001b[39m] \u001b[39m=\u001b[39m ensure_dtype_objs(kwds\u001b[39m.\u001b[39mget(\u001b[39m\"\u001b[39m\u001b[39mdtype\u001b[39m\u001b[39m\"\u001b[39m, \u001b[39mNone\u001b[39;00m))\n\u001b[0;32m---> 79\u001b[0m \u001b[39mself\u001b[39m\u001b[39m.\u001b[39m_reader \u001b[39m=\u001b[39m parsers\u001b[39m.\u001b[39;49mTextReader(src, \u001b[39m*\u001b[39;49m\u001b[39m*\u001b[39;49mkwds)\n\u001b[1;32m     81\u001b[0m \u001b[39mself\u001b[39m\u001b[39m.\u001b[39munnamed_cols \u001b[39m=\u001b[39m \u001b[39mself\u001b[39m\u001b[39m.\u001b[39m_reader\u001b[39m.\u001b[39munnamed_cols\n\u001b[1;32m     83\u001b[0m \u001b[39m# error: Cannot determine type of 'names'\u001b[39;00m\n",
      "File \u001b[0;32m~/PROJ1_2/STAG_vykazy/venv/lib/python3.10/site-packages/pandas/_libs/parsers.pyx:554\u001b[0m, in \u001b[0;36mpandas._libs.parsers.TextReader.__cinit__\u001b[0;34m()\u001b[0m\n",
      "\u001b[0;31mEmptyDataError\u001b[0m: No columns to parse from file"
     ]
    }
   ],
   "source": [
    "# url = \"https://ws.ujep.cz/ws/services/rest2/rozvrhy/getRozvrhByUcitel?stagUser=F21060&ucitIdno=3521&semestr=%25&vsechnyCasyKonani=true&jenRozvrhoveAkce=false&datumDo=31.5.2023&vsechnyAkce=false&jenBudouciAkce=false&datumOd=1.5.2023&lang=cs&outputFormat=CSV&outputFormatEncoding=utf-8\"\n",
    "url = \"https://ws.ujep.cz/ws/services/rest2/ucitel/getUcitelInfo?ucitIdno=6978&lang=cs&outputFormat=csv\"\n",
    "\n",
    "response = requests.get(url, cookies={\"WSCOOKIE\" : \"662136d0bdb62093f9ea19303ceb17f60893076e185f7a351dbee0834a537a50\"})\n",
    "print(response)\n",
    "\n",
    "df = pd.read_csv(StringIO(response.text), sep = \";\")\n",
    "df"
   ]
  },
  {
   "cell_type": "code",
   "execution_count": 2,
   "metadata": {},
   "outputs": [
    {
     "name": "stdout",
     "output_type": "stream",
     "text": [
      "{1: 'ok'}\n"
     ]
    }
   ],
   "source": [
    "dict = {1 : \"ok\"}\n",
    "\n",
    "dict.pop(2, None)\n",
    "print(dict)"
   ]
  },
  {
   "cell_type": "code",
   "execution_count": 4,
   "metadata": {},
   "outputs": [
    {
     "data": {
      "text/plain": [
       "3"
      ]
     },
     "execution_count": 4,
     "metadata": {},
     "output_type": "execute_result"
    }
   ],
   "source": [
    "round(2.66666)"
   ]
  },
  {
   "cell_type": "code",
   "execution_count": 9,
   "metadata": {},
   "outputs": [
    {
     "name": "stdout",
     "output_type": "stream",
     "text": [
      "2.0\n",
      "2023-05-01 14:00:00\n"
     ]
    }
   ],
   "source": [
    "from datetime import datetime, timedelta\n",
    "\n",
    "# create two datetime objects\n",
    "dt1 = datetime(2023, 5, 1, 14, 0) # 2:00 PM\n",
    "dt2 = datetime(2023, 5, 1, 12, 0) # 12:00 PM\n",
    "\n",
    "# calculate the difference between the two datetime objects\n",
    "delta = dt1 - dt2\n",
    "\n",
    "# extract the number of hours from the timedelta object\n",
    "hours = delta.total_seconds() / 3600\n",
    "\n",
    "print(hours) # output: 2.0\n",
    "print(dt1)"
   ]
  },
  {
   "cell_type": "code",
   "execution_count": 10,
   "metadata": {},
   "outputs": [
    {
     "data": {
      "text/plain": [
       "Series([], Name: ucitIdno, dtype: object)"
      ]
     },
     "execution_count": 10,
     "metadata": {},
     "output_type": "execute_result"
    }
   ],
   "source": [
    "data_url = \"https://stag-demo.zcu.cz/ws/services/rest2/ucitel/getUciteleKatedry\"\n",
    "\n",
    "vars = {\n",
    "    \"lang\" : \"cs\",\n",
    "    \"outputFormat\" : \"CSV\",\n",
    "    \"katedra\" : \"KI\",\n",
    "    \"jenAktualni\" : True,\n",
    "    \"outputFormatEncoding\":\"utf-8\"\n",
    "}\n",
    "\n",
    "df = get_ucitele_katedry(\"jbozdech\", \"demo\", os.getenv(\"APP_URL\"), data_url, vars, column=\"ucitIdno\")\n",
    "\n",
    "df"
   ]
  },
  {
   "cell_type": "code",
   "execution_count": 15,
   "metadata": {},
   "outputs": [
    {
     "name": "stdout",
     "output_type": "stream",
     "text": [
      "<RequestsCookieJar[]>\n"
     ]
    }
   ],
   "source": [
    "# with Session() as s:\n",
    "#     s.auth = (\"jbozdech\", \"demo\")\n",
    "#     webove_sluzby_page = s.get(os.getenv(\"APP_URL\"))\n",
    "#     print(webove_sluzby_page.headers.get(\"stagUserTicket\"))\n",
    "#     # response = s.get(data_url, headers={}, params=vars)\n",
    "#     # # print(response.text)\n",
    "#     # data = response.text\n",
    "#     # df = pd.read_csv(StringIO(data), sep = \";\")\n",
    "\n",
    "response = requests.get(os.getenv(\"APP_URL\"))\n",
    "\n",
    "print(response.cookies)"
   ]
  }
 ],
 "metadata": {
  "kernelspec": {
   "display_name": "venv",
   "language": "python",
   "name": "python3"
  },
  "language_info": {
   "codemirror_mode": {
    "name": "ipython",
    "version": 3
   },
   "file_extension": ".py",
   "mimetype": "text/x-python",
   "name": "python",
   "nbconvert_exporter": "python",
   "pygments_lexer": "ipython3",
   "version": "3.10.6"
  },
  "orig_nbformat": 4
 },
 "nbformat": 4,
 "nbformat_minor": 2
}
