{
 "cells": [
  {
   "cell_type": "code",
   "execution_count": 1,
   "metadata": {},
   "outputs": [
    {
     "data": {
      "text/plain": [
       "[2024, 2023, 2022]"
      ]
     },
     "execution_count": 1,
     "metadata": {},
     "output_type": "execute_result"
    }
   ],
   "source": [
    "import datetime\n",
    "\n",
    "# list of last 3 years\n",
    "years = [datetime.datetime.now().year - i for i in range(3)]\n",
    "years"
   ]
  },
  {
   "cell_type": "code",
   "execution_count": 6,
   "metadata": {},
   "outputs": [
    {
     "data": {
      "text/plain": [
       "0    2.1.2024\n",
       "1    3.1.2024\n",
       "Name: datum, dtype: object"
      ]
     },
     "execution_count": 6,
     "metadata": {},
     "output_type": "execute_result"
    }
   ],
   "source": [
    "import requests\n",
    "import pandas as pd\n",
    "from io import StringIO\n",
    "\n",
    "ticket = \"48034b228a9aace6703d0e9a69e87c610bc8d03f6826ee94fa4873e67a1b5222\"\n",
    "url = \"https://ws.ujep.cz/ws/services/rest2/rozvrhy/getRozvrhByUcitel\"\n",
    "params = {'vsechnyCasyKonani': True, 'jenRozvrhoveAkce': False, 'vsechnyAkce': True, 'jenBudouciAkce': False, 'lang': 'cs', 'outputFormat': 'CSV', 'rok': 2022, 'outputFormatEncoding': 'utf-8', 'datumOd': '01.01.2024', 'datumDo': '31.01.2024', 'ucitIdno': 3521}\n",
    "\n",
    "response = requests.get(url, params=params, cookies={\"WSCOOKIE\": ticket})\n",
    "\n",
    "df = pd.read_csv(StringIO(response.text), sep=\";\")\n",
    "df.datum"
   ]
  },
  {
   "cell_type": "code",
   "execution_count": 9,
   "metadata": {},
   "outputs": [
    {
     "data": {
      "text/html": [
       "<div>\n",
       "<style scoped>\n",
       "    .dataframe tbody tr th:only-of-type {\n",
       "        vertical-align: middle;\n",
       "    }\n",
       "\n",
       "    .dataframe tbody tr th {\n",
       "        vertical-align: top;\n",
       "    }\n",
       "\n",
       "    .dataframe thead th {\n",
       "        text-align: right;\n",
       "    }\n",
       "</style>\n",
       "<table border=\"1\" class=\"dataframe\">\n",
       "  <thead>\n",
       "    <tr style=\"text-align: right;\">\n",
       "      <th></th>\n",
       "      <th>ucitIdno</th>\n",
       "      <th>jmeno</th>\n",
       "      <th>prijmeni</th>\n",
       "      <th>titulPred</th>\n",
       "      <th>titulZa</th>\n",
       "      <th>platnost</th>\n",
       "      <th>zamestnanec</th>\n",
       "      <th>katedra</th>\n",
       "      <th>pracovisteDalsi</th>\n",
       "      <th>email</th>\n",
       "      <th>telefon</th>\n",
       "      <th>telefon2</th>\n",
       "      <th>url</th>\n",
       "    </tr>\n",
       "  </thead>\n",
       "  <tbody>\n",
       "    <tr>\n",
       "      <th>0</th>\n",
       "      <td>3521</td>\n",
       "      <td>Zbyšek</td>\n",
       "      <td>Posel</td>\n",
       "      <td>doc. RNDr.</td>\n",
       "      <td>Ph.D.</td>\n",
       "      <td>A</td>\n",
       "      <td>A</td>\n",
       "      <td>KI</td>\n",
       "      <td>NaN</td>\n",
       "      <td>Zbysek.Posel@ujep.cz</td>\n",
       "      <td>475286717</td>\n",
       "      <td>NaN</td>\n",
       "      <td>NaN</td>\n",
       "    </tr>\n",
       "  </tbody>\n",
       "</table>\n",
       "</div>"
      ],
      "text/plain": [
       "   ucitIdno   jmeno prijmeni   titulPred titulZa platnost zamestnanec katedra  \\\n",
       "0      3521  Zbyšek    Posel  doc. RNDr.   Ph.D.        A           A      KI   \n",
       "\n",
       "   pracovisteDalsi                 email    telefon  telefon2  url  \n",
       "0              NaN  Zbysek.Posel@ujep.cz  475286717       NaN  NaN  "
      ]
     },
     "execution_count": 9,
     "metadata": {},
     "output_type": "execute_result"
    }
   ],
   "source": [
    "url = \"https://ws.ujep.cz/ws/services/rest2/ucitel/getUcitelInfo?stagUser=F21060&ucitIdno=3521&outputFormat=CSV&outputFormatEncoding=utf-8&lang=cs\"\n",
    "\n",
    "response = requests.get(url, cookies={\"WSCOOKIE\": ticket})\n",
    "df = pd.read_csv(StringIO(response.text), sep=\";\")\n",
    "df"
   ]
  },
  {
   "cell_type": "code",
   "execution_count": 1,
   "metadata": {},
   "outputs": [
    {
     "data": {
      "text/plain": [
       "{'jmeno': 'Petr',\n",
       " 'prijmeni': 'KOTLAN',\n",
       " 'email': 'peta.kotlan@seznam.cz',\n",
       " 'stagUserInfo': [{'userName': 'F21060',\n",
       "   'role': 'ST',\n",
       "   'roleNazev': 'Student',\n",
       "   'fakulta': 'PRF',\n",
       "   'osCislo': 'F21060',\n",
       "   'email': 'peta.kotlan@seznam.cz'}]}"
      ]
     },
     "execution_count": 1,
     "metadata": {},
     "output_type": "execute_result"
    }
   ],
   "source": [
    "import base64\n",
    "import json\n",
    "\n",
    "string = \"eyJqbWVubyI6IlBldHIiLCJwcmlqbWVuaSI6IktPVExBTiIsImVtYWlsIjoicGV0YS5rb3RsYW5Ac2V6bmFtLmN6Iiwic3RhZ1VzZXJJbmZvIjpbeyJ1c2VyTmFtZSI6IkYyMTA2MCIsInJvbGUiOiJTVCIsInJvbGVOYXpldiI6IlN0dWRlbnQiLCJmYWt1bHRhIjoiUFJGIiwib3NDaXNsbyI6IkYyMTA2MCIsImVtYWlsIjoicGV0YS5rb3RsYW5Ac2V6bmFtLmN6In1dfQ%3d%3d\"\n",
    "\n",
    "# Calculate the number of padding characters needed\n",
    "padding_needed = 4 - len(string) % 4\n",
    "\n",
    "# Add '=' padding to the end of the string\n",
    "string += '=' * padding_needed\n",
    "\n",
    "decoded = base64.b64decode(string)\n",
    "\n",
    "# Remove non-printable characters from the decoded data\n",
    "clean_decoded = decoded.decode('utf-8', errors='ignore')\n",
    "\n",
    "json.loads(clean_decoded)\n"
   ]
  },
  {
   "cell_type": "code",
   "execution_count": 23,
   "metadata": {},
   "outputs": [
    {
     "data": {
      "text/plain": [
       "True"
      ]
     },
     "execution_count": 23,
     "metadata": {},
     "output_type": "execute_result"
    }
   ],
   "source": [
    "idnos = \"3521, 2220\"\n",
    "idno = 3521\n",
    "\n",
    "idno in [int(i) for i in idnos.split(\", \")]"
   ]
  }
 ],
 "metadata": {
  "kernelspec": {
   "display_name": "venv",
   "language": "python",
   "name": "python3"
  },
  "language_info": {
   "codemirror_mode": {
    "name": "ipython",
    "version": 3
   },
   "file_extension": ".py",
   "mimetype": "text/x-python",
   "name": "python",
   "nbconvert_exporter": "python",
   "pygments_lexer": "ipython3",
   "version": "3.10.12"
  }
 },
 "nbformat": 4,
 "nbformat_minor": 2
}
