{
 "cells": [
  {
   "cell_type": "code",
   "execution_count": 1,
   "metadata": {},
   "outputs": [
    {
     "data": {
      "text/plain": [
       "True"
      ]
     },
     "execution_count": 1,
     "metadata": {},
     "output_type": "execute_result"
    }
   ],
   "source": [
    "import pandas as pd\n",
    "import requests\n",
    "from utils import get_ucitele_katedry\n",
    "from dotenv import load_dotenv\n",
    "import os\n",
    "from requests import Session\n",
    "from io import StringIO\n",
    "\n",
    "load_dotenv()"
   ]
  },
  {
   "cell_type": "code",
   "execution_count": 19,
   "metadata": {},
   "outputs": [
    {
     "name": "stdout",
     "output_type": "stream",
     "text": [
      "      A    B   C\n",
      "0   1.0  5.0   9\n",
      "1   2.0  NaN  10\n",
      "2  77.0  7.0  11\n",
      "3   4.0  8.0  12\n"
     ]
    }
   ],
   "source": [
    "import pandas as pd\n",
    "import numpy as np\n",
    "\n",
    "\n",
    "# Create a sample DataFrame\n",
    "df = pd.DataFrame({'A': [1, 2, np.nan, 4],\n",
    "                   'B': [5, np.nan, 7, 8],\n",
    "                   'C': [9, 10, 11, 12]})\n",
    "\n",
    "# Replace missing values in column 'A' with the sum of columns 'B' and 'C'\n",
    "df['A'] = df['A'].fillna(df['B'] * df['C'])\n",
    "\n",
    "# Print the DataFrame to verify the result\n",
    "print(df)"
   ]
  },
  {
   "cell_type": "code",
   "execution_count": 8,
   "metadata": {},
   "outputs": [
    {
     "data": {
      "text/plain": [
       "datetime.date(2023, 9, 1)"
      ]
     },
     "execution_count": 8,
     "metadata": {},
     "output_type": "execute_result"
    }
   ],
   "source": [
    "import datetime\n",
    "from dateutil.relativedelta import relativedelta\n",
    "\n",
    "sample = datetime.date(2023, 9, 30)\n",
    "\n",
    "first = sample + relativedelta(day=1)\n",
    "\n",
    "first"
   ]
  },
  {
   "cell_type": "code",
   "execution_count": 14,
   "metadata": {},
   "outputs": [
    {
     "data": {
      "text/html": [
       "<div>\n",
       "<style scoped>\n",
       "    .dataframe tbody tr th:only-of-type {\n",
       "        vertical-align: middle;\n",
       "    }\n",
       "\n",
       "    .dataframe tbody tr th {\n",
       "        vertical-align: top;\n",
       "    }\n",
       "\n",
       "    .dataframe thead th {\n",
       "        text-align: right;\n",
       "    }\n",
       "</style>\n",
       "<table border=\"1\" class=\"dataframe\">\n",
       "  <thead>\n",
       "    <tr style=\"text-align: right;\">\n",
       "      <th></th>\n",
       "      <th>ucitIdno</th>\n",
       "      <th>jmeno</th>\n",
       "      <th>prijmeni</th>\n",
       "      <th>titulPred</th>\n",
       "      <th>titulZa</th>\n",
       "      <th>platnost</th>\n",
       "      <th>zamestnanec</th>\n",
       "      <th>katedra</th>\n",
       "      <th>pracovisteDalsi</th>\n",
       "      <th>email</th>\n",
       "      <th>telefon</th>\n",
       "      <th>telefon2</th>\n",
       "      <th>url</th>\n",
       "    </tr>\n",
       "  </thead>\n",
       "  <tbody>\n",
       "    <tr>\n",
       "      <th>0</th>\n",
       "      <td>3521</td>\n",
       "      <td>Zbyšek</td>\n",
       "      <td>Posel</td>\n",
       "      <td>RNDr.</td>\n",
       "      <td>Ph.D.</td>\n",
       "      <td>A</td>\n",
       "      <td>A</td>\n",
       "      <td>KI</td>\n",
       "      <td>NaN</td>\n",
       "      <td>Zbysek.Posel@ujep.cz</td>\n",
       "      <td>475286717</td>\n",
       "      <td>NaN</td>\n",
       "      <td>NaN</td>\n",
       "    </tr>\n",
       "  </tbody>\n",
       "</table>\n",
       "</div>"
      ],
      "text/plain": [
       "   ucitIdno   jmeno prijmeni titulPred titulZa platnost zamestnanec katedra  \\\n",
       "0      3521  Zbyšek    Posel     RNDr.   Ph.D.        A           A      KI   \n",
       "\n",
       "   pracovisteDalsi                 email    telefon  telefon2  url  \n",
       "0              NaN  Zbysek.Posel@ujep.cz  475286717       NaN  NaN  "
      ]
     },
     "execution_count": 14,
     "metadata": {},
     "output_type": "execute_result"
    }
   ],
   "source": [
    "cookie = \"d953fb434c32e107ff44c883e012f7bfbb395aca56cb8ec9c0e571fb07cfcb67\"\n",
    "\n",
    "ucitel_url = \"https://ws.ujep.cz/ws/services/rest2/ucitel/getUcitelInfo\"\n",
    "\n",
    "vars = {\"ucitIdno\" : 3521, \"outputFormat\": \"CSV\", \"outputFormatEncoding\": \"utf-8\", \"lang\" : \"cs\"}\n",
    "\n",
    "ucitel = requests.get(\n",
    "    ucitel_url,\n",
    "    cookies={\"WSCOOKIE\": cookie},\n",
    "    params=vars\n",
    ")\n",
    "\n",
    "ucit_data = ucitel.text\n",
    "ucit_df = pd.read_csv(StringIO(ucit_data), sep=\";\")\n",
    "ucit_df"
   ]
  },
  {
   "cell_type": "code",
   "execution_count": 2,
   "metadata": {},
   "outputs": [
    {
     "name": "stdout",
     "output_type": "stream",
     "text": [
      "{1: 'ok'}\n"
     ]
    }
   ],
   "source": [
    "dict = {1 : \"ok\"}\n",
    "\n",
    "dict.pop(2, None)\n",
    "print(dict)"
   ]
  },
  {
   "cell_type": "code",
   "execution_count": 9,
   "metadata": {},
   "outputs": [
    {
     "name": "stdout",
     "output_type": "stream",
     "text": [
      "2.0\n",
      "2023-05-01 14:00:00\n"
     ]
    }
   ],
   "source": [
    "from datetime import datetime, timedelta\n",
    "\n",
    "# create two datetime objects\n",
    "dt1 = datetime(2023, 5, 1, 14, 0) # 2:00 PM\n",
    "dt2 = datetime(2023, 5, 1, 12, 0) # 12:00 PM\n",
    "\n",
    "# calculate the difference between the two datetime objects\n",
    "delta = dt1 - dt2\n",
    "\n",
    "# extract the number of hours from the timedelta object\n",
    "hours = delta.total_seconds() / 3600\n",
    "\n",
    "print(hours) # output: 2.0\n",
    "print(dt1)"
   ]
  },
  {
   "cell_type": "code",
   "execution_count": 10,
   "metadata": {},
   "outputs": [
    {
     "data": {
      "text/plain": [
       "Series([], Name: ucitIdno, dtype: object)"
      ]
     },
     "execution_count": 10,
     "metadata": {},
     "output_type": "execute_result"
    }
   ],
   "source": [
    "data_url = \"https://stag-demo.zcu.cz/ws/services/rest2/ucitel/getUciteleKatedry\"\n",
    "\n",
    "vars = {\n",
    "    \"lang\" : \"cs\",\n",
    "    \"outputFormat\" : \"CSV\",\n",
    "    \"katedra\" : \"KI\",\n",
    "    \"jenAktualni\" : True,\n",
    "    \"outputFormatEncoding\":\"utf-8\"\n",
    "}\n",
    "\n",
    "df = get_ucitele_katedry(\"jbozdech\", \"demo\", os.getenv(\"APP_URL\"), data_url, vars, column=\"ucitIdno\")\n",
    "\n",
    "df"
   ]
  },
  {
   "cell_type": "code",
   "execution_count": 15,
   "metadata": {},
   "outputs": [
    {
     "name": "stdout",
     "output_type": "stream",
     "text": [
      "<RequestsCookieJar[]>\n"
     ]
    }
   ],
   "source": [
    "# with Session() as s:\n",
    "#     s.auth = (\"jbozdech\", \"demo\")\n",
    "#     webove_sluzby_page = s.get(os.getenv(\"APP_URL\"))\n",
    "#     print(webove_sluzby_page.headers.get(\"stagUserTicket\"))\n",
    "#     # response = s.get(data_url, headers={}, params=vars)\n",
    "#     # # print(response.text)\n",
    "#     # data = response.text\n",
    "#     # df = pd.read_csv(StringIO(data), sep = \";\")\n",
    "\n",
    "response = requests.get(os.getenv(\"APP_URL\"))\n",
    "\n",
    "print(response.cookies)"
   ]
  }
 ],
 "metadata": {
  "kernelspec": {
   "display_name": "venv",
   "language": "python",
   "name": "python3"
  },
  "language_info": {
   "codemirror_mode": {
    "name": "ipython",
    "version": 3
   },
   "file_extension": ".py",
   "mimetype": "text/x-python",
   "name": "python",
   "nbconvert_exporter": "python",
   "pygments_lexer": "ipython3",
   "version": "3.10.6"
  },
  "orig_nbformat": 4
 },
 "nbformat": 4,
 "nbformat_minor": 2
}
